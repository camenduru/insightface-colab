{
 "cells": [
  {
   "cell_type": "markdown",
   "metadata": {
    "id": "view-in-github"
   },
   "source": [
    "[![Open In Colab](https://colab.research.google.com/assets/colab-badge.svg)](https://colab.research.google.com/github/camenduru/insightface-colab/blob/main/insightface_face_detection_colab.ipynb)"
   ]
  },
  {
   "cell_type": "code",
   "execution_count": null,
   "metadata": {},
   "outputs": [],
   "source": [
    "%cd /content\n",
    "!pip install https://github.com/camenduru/insightface-colab/releases/download/v0.1/mmcv_full-1.4.0-cp310-cp310-linux_x86_64.whl\n",
    "!pip install gradio insightface==0.6.2\n",
    "!git clone -b dev --recurse-submodules https://github.com/camenduru/insightface-SCRFD-hf\n",
    "%cd /content/insightface-SCRFD-hf"
   ]
  }
 ],
 "metadata": {
  "language_info": {
   "name": "python"
  },
  "orig_nbformat": 4
 },
 "nbformat": 4,
 "nbformat_minor": 2
}
