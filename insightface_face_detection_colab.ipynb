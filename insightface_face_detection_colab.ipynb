{
 "cells": [
  {
   "cell_type": "markdown",
   "metadata": {
    "id": "view-in-github"
   },
   "source": [
    "[![Open In Colab](https://colab.research.google.com/assets/colab-badge.svg)](https://colab.research.google.com/github/camenduru/insightface-face-detection-colab/blob/main/insightface_face_detection_colab.ipynb)"
   ]
  },
  {
   "cell_type": "code",
   "execution_count": null,
   "metadata": {},
   "outputs": [],
   "source": [
    "%cd /content\n",
    "\n",
    "!pip install https://github.com/camenduru/wheels/releases/download/colab/mmcv_full-1.7.1-cp310-cp310-linux_x86_64.whl\n",
    "!pip install gradio insightface==0.6.2 terminaltables==3.1.0 mmpycocotools==12.0.3\n",
    "\n",
    "!git clone -b dev --recurse-submodules https://github.com/camenduru/insightface-SCRFD-hf\n",
    "%cd /content/insightface-SCRFD-hf\n",
    "\n",
    "!sed -i '23,26d' /content/insightface-SCRFD-hf/insightface/detection/scrfd/mmdet/__init__.py\n",
    "\n",
    "!python app.py"
   ]
  }
 ],
 "metadata": {
  "language_info": {
   "name": "python"
  },
  "orig_nbformat": 4
 },
 "nbformat": 4,
 "nbformat_minor": 2
}
